{
  "cells": [
    {
      "cell_type": "code",
      "execution_count": null,
      "metadata": {
        "colab": {
          "base_uri": "https://localhost:8080/"
        },
        "id": "EsdiBcgyEDWy",
        "outputId": "ad12026c-1cd5-4c8f-8c47-59b6cc82f6db"
      },
      "outputs": [],
      "source": [
        "!unzip stanford_dogs_dataset.zip"
      ]
    },
    {
      "cell_type": "code",
      "execution_count": 2,
      "metadata": {
        "id": "RD4hiFH1ee--"
      },
      "outputs": [],
      "source": [
        "import torch\n",
        "import torch.nn as nn\n",
        "from torchvision import datasets ,models,transforms\n",
        "from pathlib import Path\n",
        "from matplotlib import pyplot as plt\n",
        "import numpy as np  \n",
        "import torch.nn.functional as F\n",
        "import matplotlib.pyplot as plt\n",
        "from torch.nn import Linear, ReLU, CrossEntropyLoss, Conv2d, MaxPool2d, Module\n",
        "from torch.optim import Adam\n",
        "import pandas as pd\n",
        "import os\n",
        "from os import listdir\n",
        "from tqdm import tqdm\n",
        "from PIL import Image"
      ]
    },
    {
      "cell_type": "code",
      "execution_count": 8,
      "metadata": {
        "colab": {
          "base_uri": "https://localhost:8080/"
        },
        "id": "8MtBqFr-FPuQ",
        "outputId": "fe18a902-14a2-4c7d-bf6c-ebc9e5a02253"
      },
      "outputs": [
        {
          "name": "stdout",
          "output_type": "stream",
          "text": [
            "{'Afghan_hound': 0, 'Airedale': 1, 'Bernese_mountain_dog': 2, 'Irish_wolfhound': 3, 'Leonberg': 4, 'Scottish_deerhound': 5, 'Tibetan_terrier': 6, 'basenji': 7}\n",
            "{'Afghan_hound': 0, 'Airedale': 1, 'Bernese_mountain_dog': 2, 'Irish_wolfhound': 3, 'Leonberg': 4, 'Scottish_deerhound': 5, 'Tibetan_terrier': 6, 'basenji': 7}\n"
          ]
        }
      ],
      "source": [
        "\n",
        "PATH_train=\"stanford_dogs_dataset/train\"\n",
        "PATH_test=\"stanford_dogs_dataset/test\"\n",
        "TRAIN =Path(PATH_train)\n",
        "TEST =Path(PATH_test)\n",
        "batch_size = 32\n",
        "LR = 0.0001\n",
        "\n",
        "train_transforms = transforms.Compose([\n",
        "                                transforms.RandomCrop((400,400), pad_if_needed = True, ),\n",
        "                                transforms.RandomHorizontalFlip(p=0.9),\n",
        "                                #transforms.ColorJitter(brightness=(0, 5), contrast=(0, 5), saturation=(0, 5), hue=(-0.1, 0.1)),\n",
        "                                transforms.RandomRotation(30, expand=False, center=(200, 200)),\n",
        "                                transforms.ToTensor(),\n",
        "                                transforms.Normalize(mean = (0.485, 0.456, 0.406), std = (0.229, 0.224, 0.225))\n",
        "                                ])\n",
        "\n",
        "test_transforms = transforms.Compose([\n",
        "                                transforms.RandomCrop((400,400), pad_if_needed = True),\n",
        "                                transforms.ToTensor(),\n",
        "                                transforms.Normalize(mean = (0.485, 0.456, 0.406), std = (0.229, 0.224, 0.225))\n",
        "                                ])\n",
        "\n",
        "\n",
        "train_data = datasets.ImageFolder(TRAIN, transform=train_transforms)\n",
        "test_data = datasets.ImageFolder(TEST, transform=test_transforms)\n",
        "print(train_data.class_to_idx)\n",
        "print(test_data.class_to_idx)\n",
        "\n",
        "train_loader = torch.utils.data.DataLoader(train_data, batch_size=batch_size,shuffle=True)\n",
        "valid_loader = torch.utils.data.DataLoader(test_data, batch_size=batch_size,shuffle=True)"
      ]
    },
    {
      "cell_type": "markdown",
      "metadata": {
        "id": "9qKAM4jrX1ws"
      },
      "source": [
        "### **Implement VGG16 model**"
      ]
    },
    {
      "cell_type": "code",
      "execution_count": 9,
      "metadata": {
        "id": "XFMlfqKDF1g7"
      },
      "outputs": [],
      "source": [
        "# N = (W-k+2P)/S + 1\n",
        "class VGG16(nn.Module):\n",
        "    def __init__(self):\n",
        "        super(VGG16, self).__init__()\n",
        "        # input_shape=(3,224,224)\n",
        "        self.cnn3_64 = nn.Conv2d(3, 64, kernel_size=3, stride=1, padding=1) \n",
        "        self.cnn64_64 = nn.Conv2d(64, 64, kernel_size=3, stride=1, padding=1) \n",
        "        self.relu1 = nn.ReLU(inplace=True) \n",
        "        #(224-3)/1 + 1 = 222\n",
        "        # Max pool 1 (8, 222, 222)\n",
        "        self.maxpool = nn.MaxPool2d(kernel_size=2, stride=2)\n",
        "\n",
        "        self.cnn64_128 = nn.Conv2d(64, 128, kernel_size=3, stride=1, padding=1) \n",
        "        self.cnn128_128 = nn.Conv2d(128, 128, kernel_size=3, stride=1, padding=1) \n",
        "\n",
        "        self.cnn128_256 = nn.Conv2d(128, 256, kernel_size=3, stride=1, padding=1) \n",
        "        self.cnn256_256 = nn.Conv2d(256, 256, kernel_size=3, stride=1, padding=1) \n",
        "\n",
        "        self.cnn256_512 = nn.Conv2d(256, 512, kernel_size=3, stride=1, padding=1) \n",
        "        self.cnn512_512 = nn.Conv2d(512, 512, kernel_size=3, stride=1, padding=1) \n",
        "\n",
        "        \n",
        "        self.drop1 = nn.Dropout(p=0.2)\n",
        "        self.fc1 = nn.Linear(512 * 7 * 7, 4096)\n",
        "        self.fc2 = nn.Linear(4096, 4096)\n",
        "        self.fc3 = nn.Linear(4096, 8)\n",
        "        self.bn1 = nn.BatchNorm2d(512)\n",
        "        self.sm = nn.Softmax(dim=1)\n",
        "    def forward(self, x):\n",
        "        out = self.relu1(self.cnn3_64(x))\n",
        "        out = self.relu1(self.cnn64_64(out))\n",
        "        out = self.maxpool(out)\n",
        "\n",
        "\n",
        "        out = self.relu1(self.cnn64_128(out))\n",
        "        out = self.relu1(self.cnn128_128(out))\n",
        "        out = self.maxpool(out)\n",
        "\n",
        "        out = self.relu1(self.cnn128_256(out))\n",
        "        out = self.relu1(self.cnn256_256(out))\n",
        "        out = self.relu1(self.cnn256_256(out))\n",
        "        out = self.maxpool(out)\n",
        "\n",
        "        out = self.relu1(self.cnn256_512(out))\n",
        "        out = self.relu1(self.cnn512_512(out))\n",
        "        out = self.relu1(self.cnn512_512(out))\n",
        "        out = self.maxpool(out)\n",
        "\n",
        "        out = self.relu1(self.cnn512_512(out))\n",
        "        out = self.relu1(self.cnn512_512(out))\n",
        "        out = self.relu1(self.cnn512_512(out))\n",
        "        out = self.maxpool(out)\n",
        "\n",
        "        out = self.bn1(out)\n",
        "        out = out.view(out.size(0), -1) \n",
        "        out = F.relu(self.fc1(out))\n",
        "        out = F.relu(self.fc2(out))\n",
        "        out = self.sm(self.fc3(out))\n",
        "\n",
        "        return out"
      ]
    },
    {
      "cell_type": "markdown",
      "metadata": {
        "id": "3ks615ttX-Fk"
      },
      "source": [
        "### **Implement simple CNN model**"
      ]
    },
    {
      "cell_type": "code",
      "execution_count": 14,
      "metadata": {
        "id": "OsMLvAZBR4Uw"
      },
      "outputs": [],
      "source": [
        "class LittleCNN(nn.Module):\n",
        "  \n",
        "    def __init__(self):\n",
        "        super(LittleCNN, self).__init__()\n",
        "        self.conv1_1 = nn.Conv2d(3, 8, kernel_size=3, padding=1)\n",
        "        self.conv1_2 = nn.Conv2d(8, 8, kernel_size=3, padding=1)\n",
        "        self.conv1_3 = nn.Conv2d(8, 8, kernel_size=3, padding=1)\n",
        "\n",
        "        self.bn1 = nn.BatchNorm2d(32)\n",
        "        \n",
        "        self.maxpool = nn.MaxPool2d(2, stride=2)\n",
        "        \n",
        "        self.fc6 = nn.Linear(50*50*8, 64) # *******\n",
        "        #self.bn_fc = nn.BatchNorm1d(32)\n",
        "        self.fc8 = nn.Linear(64, 8)       # *******\n",
        "        \n",
        "        self.dropout = nn.Dropout(p=0.1)\n",
        "    def forward(self, x):\n",
        "        #conv block 1\n",
        "        x = self.conv1_1(x)\n",
        "        x = F.relu(x)\n",
        "        x = self.maxpool(x)\n",
        "\n",
        "        x = self.conv1_2(x)\n",
        "        x = F.relu(x)\n",
        "        x = self.maxpool(x)\n",
        "\n",
        "        x = self.conv1_2(x)\n",
        "        x = F.relu(x)\n",
        "        x = self.maxpool(x)\n",
        "        \n",
        "        \n",
        "        x = x.reshape(-1, 50*50*8)\n",
        "        \n",
        "        #fc6\n",
        "        x = self.fc6(x)\n",
        "        x = F.relu(x)\n",
        "        #x = self.dropout(x)\n",
        "        x = self.fc8(x)\n",
        "        x = F.softmax(x, dim=1)\n",
        "        \n",
        "        return x"
      ]
    },
    {
      "cell_type": "code",
      "execution_count": 15,
      "metadata": {
        "id": "gfDP5110F5GF"
      },
      "outputs": [],
      "source": [
        "def train(model,n_epochs,train_loader,valid_loader, LR = 0.001):\n",
        "    optimizer = torch.optim.Adam(model.parameters(), lr=LR)\n",
        "    #optimizer = torch.optim.Adam(model.parameters(),lr=LR, betas=(0.9, 0.999), eps=1e-08, weight_decay=0.0)\n",
        "    #optimizer = torch.optim.SGD(model.parameters(), lr=LR, momentum=0.5, dampening=0, weight_decay=0, nesterov=False)\n",
        "    #optimizer = torch.optim.RMSprop(model.parameters(), lr=LR, alpha=0.99, eps=1e-08, weight_decay=0.1, momentum=0, centered=False)\n",
        "    criterion = CrossEntropyLoss()\n",
        "    train_acc_his,valid_acc_his=[],[]\n",
        "    train_losses_his,valid_losses_his=[],[]\n",
        "    for epoch in range(1, n_epochs+1):\n",
        "        # keep track of training and validation loss\n",
        "        train_loss,valid_loss = 0.0,0.0\n",
        "        train_losses,valid_losses=[],[]\n",
        "        train_correct,val_correct,train_total,val_total=0,0,0,0\n",
        "        train_pred,train_target=torch.zeros(batch_size,1),torch.zeros(batch_size,1)\n",
        "        val_pred,val_target=torch.zeros(batch_size,1),torch.zeros(batch_size,1)\n",
        "        count=0\n",
        "        count2=0\n",
        "        print('running epoch: {}'.format(epoch))\n",
        "        model = model.cuda()\n",
        "        model.train()\n",
        "        for data, target in tqdm(train_loader):\n",
        "            data, target = data.cuda(), target.cuda()\n",
        "            output = model(data)\n",
        "            #print('output.shape', output.shape)\n",
        "            loss = criterion(output, target)\n",
        "            pred = output.data.max(dim = 1, keepdim = True)[1]\n",
        "            #print('pred.shape', pred.shape)\n",
        "            train_correct += np.sum(np.squeeze(pred.eq(target.data.view_as(pred))).cpu().numpy())\n",
        "            train_total += data.size(0)\n",
        "            loss.backward()\n",
        "            optimizer.step()\n",
        "            train_losses.append(loss.item()*data.size(0))\n",
        "            optimizer.zero_grad()\n",
        "            if count==0:\n",
        "                train_pred=pred\n",
        "                train_target=target.data.view_as(pred)\n",
        "                count=count+1\n",
        "            else:\n",
        "                train_pred=torch.cat((train_pred,pred), 0)\n",
        "                train_target=torch.cat((train_target,target.data.view_as(pred)), 0)\n",
        "        train_pred=train_pred.cpu().view(-1).numpy().tolist()\n",
        "        train_target=train_target.cpu().view(-1).numpy().tolist()\n",
        "        model.eval()\n",
        "        for data, target in tqdm(valid_loader):\n",
        "            data, target = data.cuda(), target.cuda()\n",
        "            output = model(data)\n",
        "            loss =criterion(output, target)\n",
        "            pred = output.data.max(dim = 1, keepdim = True)[1]\n",
        "            val_correct += np.sum(np.squeeze(pred.eq(target.data.view_as(pred))).cpu().numpy())\n",
        "            val_total += data.size(0)\n",
        "            valid_losses.append(loss.item()*data.size(0))\n",
        "            if count2==0:\n",
        "                val_pred=pred\n",
        "                val_target=target.data.view_as(pred)\n",
        "                count2=count+1\n",
        "            else:\n",
        "                val_pred=torch.cat((val_pred,pred), 0)\n",
        "                val_target=torch.cat((val_target,target.data.view_as(pred)), 0)\n",
        "        val_pred=val_pred.cpu().view(-1).numpy().tolist()\n",
        "        val_target=val_target.cpu().view(-1).numpy().tolist()\n",
        "        \n",
        "        # calculate average losses\n",
        "        train_loss=np.average(train_losses)\n",
        "        valid_loss=np.average(valid_losses)\n",
        "        \n",
        "        # calculate average accuracy\n",
        "        train_acc=train_correct/train_total\n",
        "        valid_acc=val_correct/val_total\n",
        "        train_acc_his.append(train_acc)\n",
        "        valid_acc_his.append(valid_acc)\n",
        "        train_losses_his.append(train_loss)\n",
        "        valid_losses_his.append(valid_loss)\n",
        "# print training/validation statistics \n",
        "        print('\\tTraining Loss: {:.6f} \\tValidation Loss: {:.6f}'.format(\n",
        "            train_loss, valid_loss))\n",
        "        print('\\tTraining Accuracy: {:.6f} \\tValidation Accuracy: {:.6f}'.format(\n",
        "            train_acc, valid_acc))\n",
        "    return train_acc_his,valid_acc_his,train_losses_his,valid_losses_his,model"
      ]
    },
    {
      "cell_type": "markdown",
      "metadata": {
        "id": "zK5WOvk4djoq"
      },
      "source": [
        "### Using simple CNN model with **softmax**  \n",
        "### => *overfitting*"
      ]
    },
    {
      "cell_type": "code",
      "execution_count": null,
      "metadata": {
        "colab": {
          "base_uri": "https://localhost:8080/"
        },
        "id": "NB-bMs_pdEci",
        "outputId": "fdb9a522-5b54-4928-bd91-3559880b8b40"
      },
      "outputs": [],
      "source": [
        "model1=LittleCNN()\n",
        "n_epochs = 100\n",
        "\n",
        "train_acc_his,valid_acc_his,train_losses_his,valid_losses_his,model1=train(model1,n_epochs,train_loader,valid_loader)"
      ]
    },
    {
      "cell_type": "code",
      "execution_count": 17,
      "metadata": {
        "colab": {
          "base_uri": "https://localhost:8080/",
          "height": 311
        },
        "id": "kvOHAq4Hjuzk",
        "outputId": "c32fa075-6684-46c1-88ea-a7a7aa6b0da7"
      },
      "outputs": [
        {
          "data": {
            "image/png": "[encoded data removed]",
            "text/plain": [
              "<Figure size 1080x720 with 2 Axes>"
            ]
          },
          "metadata": {
            "needs_background": "light"
          },
          "output_type": "display_data"
        }
      ],
      "source": [
        "plt.figure(figsize=(15,10))\n",
        "plt.subplot(221)\n",
        "plt.plot(train_losses_his, 'bo', label = 'training loss')\n",
        "plt.plot(valid_losses_his, 'r', label = 'validation loss')\n",
        "plt.title(\"Simple CNN Loss\")\n",
        "plt.legend(loc='upper left')\n",
        "plt.subplot(222)\n",
        "plt.plot(train_acc_his, 'bo', label = 'training accuracy')\n",
        "plt.plot(valid_acc_his, 'r', label = 'validation accuracy')\n",
        "plt.title(\"Simple CNN Accuracy\")\n",
        "plt.legend(loc='upper left')\n",
        "plt.show()"
      ]
    },
    {
      "cell_type": "markdown",
      "metadata": {
        "id": "cPb_jmXAYGEP"
      },
      "source": [
        "### Using data not very complex and simple CNN model with **no softmax & 3 FC Layers** & batch size 32 \n",
        "### *=> Little overfitting but not serious*"
      ]
    },
    {
      "cell_type": "code",
      "execution_count": null,
      "metadata": {
        "id": "uXl6ERTSdBY9"
      },
      "outputs": [],
      "source": [
        "class LittleCNN(nn.Module):\n",
        "  \n",
        "    def __init__(self):\n",
        "        super(LittleCNN, self).__init__()\n",
        "        self.conv1_1 = nn.Conv2d(3, 8, kernel_size=3, padding=1)\n",
        "        self.conv1_2 = nn.Conv2d(8, 8, kernel_size=3, padding=1)\n",
        "        self.conv1_3 = nn.Conv2d(8, 8, kernel_size=3, padding=1)\n",
        "\n",
        "        self.bn1 = nn.BatchNorm2d(32)\n",
        "        \n",
        "        self.maxpool = nn.MaxPool2d(2, stride=2)\n",
        "        \n",
        "        self.fc6 = nn.Linear(50*50*8, 32) # *******\n",
        "        #self.bn_fc = nn.BatchNorm1d(32)\n",
        "        self.fc7 = nn.Linear(32, 16)\n",
        "        self.fc8 = nn.Linear(16, 8)       # *******\n",
        "        \n",
        "        self.dropout = nn.Dropout(p=0.1)\n",
        "    def forward(self, x):\n",
        "        #conv block 1\n",
        "        x = self.conv1_1(x)\n",
        "        x = F.relu(x)\n",
        "        x = self.maxpool(x)\n",
        "\n",
        "        x = self.conv1_2(x)\n",
        "        x = F.relu(x)\n",
        "        x = self.maxpool(x)\n",
        "\n",
        "        x = self.conv1_2(x)\n",
        "        x = F.relu(x)\n",
        "        x = self.maxpool(x)\n",
        "        \n",
        "        \n",
        "        x = x.reshape(-1, 50*50*8)\n",
        "        \n",
        "        #fc6\n",
        "        x = self.fc6(x)\n",
        "        x = F.relu(x)\n",
        "        #x = self.dropout(x)\n",
        "        x = self.fc7(x)\n",
        "        x = F.relu(x)\n",
        "        x = self.fc8(x)\n",
        "        #x = F.softmax(x, dim=1)\n",
        "        \n",
        "        return x"
      ]
    },
    {
      "cell_type": "code",
      "execution_count": null,
      "metadata": {
        "colab": {
          "base_uri": "https://localhost:8080/"
        },
        "id": "ZuPakNnwF7Im",
        "outputId": "1ecc0b7e-8523-430e-fe72-41099f69fc60"
      },
      "outputs": [],
      "source": [
        "model1=LittleCNN()\n",
        "n_epochs = 100\n",
        "\n",
        "train_acc_his,valid_acc_his,train_losses_his,valid_losses_his,model1=train(model1,n_epochs,train_loader,valid_loader)"
      ]
    },
    {
      "cell_type": "code",
      "execution_count": 13,
      "metadata": {
        "colab": {
          "base_uri": "https://localhost:8080/",
          "height": 311
        },
        "id": "hPXgMy1TGKO4",
        "outputId": "8a91a10c-8669-4442-aedc-507362aa2ea5"
      },
      "outputs": [
        {
          "data": {
            "image/png": "[encoded data removed]",
            "text/plain": [
              "<Figure size 1080x720 with 2 Axes>"
            ]
          },
          "metadata": {
            "needs_background": "light"
          },
          "output_type": "display_data"
        }
      ],
      "source": [
        "plt.figure(figsize=(15,10))\n",
        "plt.subplot(221)\n",
        "plt.plot(train_losses_his, 'bo', label = 'training loss')\n",
        "plt.plot(valid_losses_his, 'r', label = 'validation loss')\n",
        "plt.title(\"Simple CNN Loss\")\n",
        "plt.legend(loc='upper left')\n",
        "plt.subplot(222)\n",
        "plt.plot(train_acc_his, 'bo', label = 'training accuracy')\n",
        "plt.plot(valid_acc_his, 'r', label = 'validation accuracy')\n",
        "plt.title(\"Simple CNN Accuracy\")\n",
        "plt.legend(loc='upper left')\n",
        "plt.show()"
      ]
    },
    {
      "cell_type": "markdown",
      "metadata": {
        "id": "F79TzeVeoWDe"
      },
      "source": [
        "### **Add dropout and finetune this model**\n",
        "=> not work really well"
      ]
    },
    {
      "cell_type": "code",
      "execution_count": null,
      "metadata": {
        "colab": {
          "base_uri": "https://localhost:8080/"
        },
        "id": "s9oPtKAQh0K5",
        "outputId": "c6cd8997-51b5-4df3-f6ce-e1aabe89e29c"
      },
      "outputs": [],
      "source": [
        "#dropout 0.1, continue training \n",
        "model1=LittleCNN()\n",
        "model1 = torch.load(\"cnn_drop0.2.65-0.45.pth\")\n",
        "train_acc_his,valid_acc_his,train_losses_his,valid_losses_his,model1=train(model1,n_epochs,train_loader,valid_loader)"
      ]
    },
    {
      "cell_type": "code",
      "execution_count": null,
      "metadata": {
        "colab": {
          "base_uri": "https://localhost:8080/",
          "height": 311
        },
        "id": "C_J5M3iekDVp",
        "outputId": "1f416a68-80d3-4667-bc0d-8cb2ba5b1bea"
      },
      "outputs": [
        {
          "data": {
            "image/png": "[encoded data removed]",
            "text/plain": [
              "<Figure size 1080x720 with 2 Axes>"
            ]
          },
          "metadata": {
            "needs_background": "light"
          },
          "output_type": "display_data"
        }
      ],
      "source": [
        "plt.figure(figsize=(15,10))\n",
        "plt.subplot(221)\n",
        "plt.plot(train_losses_his, 'bo', label = 'training loss')\n",
        "plt.plot(valid_losses_his, 'r', label = 'validation loss')\n",
        "plt.title(\"Simple CNN with dropout Loss\")\n",
        "plt.legend(loc='upper left')\n",
        "plt.subplot(222)\n",
        "plt.plot(train_acc_his, 'bo', label = 'training accuracy')\n",
        "plt.plot(valid_acc_his, 'r', label = 'validation accuracy')\n",
        "plt.title(\"Simple CNN with dropout Accuracy\")\n",
        "plt.legend(loc='upper left')\n",
        "plt.show()"
      ]
    },
    {
      "cell_type": "markdown",
      "metadata": {
        "id": "wSmQ49kElg2E"
      },
      "source": [
        "### Modify this simple CNN model with **1 fully connected layers**\n",
        "### => overfitting"
      ]
    },
    {
      "cell_type": "code",
      "execution_count": null,
      "metadata": {
        "id": "QfdyuAbWlRzU"
      },
      "outputs": [],
      "source": [
        "class LittleCNN(nn.Module):\n",
        "  \n",
        "    def __init__(self):\n",
        "        super(LittleCNN, self).__init__()\n",
        "        self.conv1_1 = nn.Conv2d(3, 8, kernel_size=3, padding=1)\n",
        "        self.conv1_2 = nn.Conv2d(8, 8, kernel_size=3, padding=1)\n",
        "        self.conv1_3 = nn.Conv2d(8, 8, kernel_size=3, padding=1)\n",
        "\n",
        "        self.bn1 = nn.BatchNorm2d(32)\n",
        "        \n",
        "        self.maxpool = nn.MaxPool2d(2, stride=2)\n",
        "        \n",
        "        self.fc6 = nn.Linear(50*50*8, 8) \n",
        "        \n",
        "        self.dropout = nn.Dropout(p=0.1)\n",
        "    def forward(self, x):\n",
        "        #conv block 1\n",
        "        x = self.conv1_1(x)\n",
        "        x = F.relu(x)\n",
        "        x = self.maxpool(x)\n",
        "\n",
        "        x = self.conv1_2(x)\n",
        "        x = F.relu(x)\n",
        "        x = self.maxpool(x)\n",
        "\n",
        "        x = self.conv1_2(x)\n",
        "        x = F.relu(x)\n",
        "        x = self.maxpool(x)\n",
        "        \n",
        "        \n",
        "        x = x.reshape(-1, 50*50*8)\n",
        "        \n",
        "        x = self.fc6(x)\n",
        "        \n",
        "        return x"
      ]
    },
    {
      "cell_type": "code",
      "execution_count": null,
      "metadata": {
        "colab": {
          "base_uri": "https://localhost:8080/"
        },
        "id": "GOZ9ImQjlazT",
        "outputId": "65e9d073-abce-430a-d174-32fb612cf0a0"
      },
      "outputs": [],
      "source": [
        "model1=LittleCNN()\n",
        "n_epochs = 100\n",
        "\n",
        "train_acc_his,valid_acc_his,train_losses_his,valid_losses_his,model1=train(model1,n_epochs,train_loader,valid_loader)"
      ]
    },
    {
      "cell_type": "code",
      "execution_count": null,
      "metadata": {
        "colab": {
          "base_uri": "https://localhost:8080/",
          "height": 311
        },
        "id": "d9ToJFYBt4qp",
        "outputId": "ae0c7114-11a9-44b2-c67c-fb2c61855940"
      },
      "outputs": [
        {
          "data": {
            "image/png": "[encoded data removed]",
            "text/plain": [
              "<Figure size 1080x720 with 2 Axes>"
            ]
          },
          "metadata": {
            "needs_background": "light"
          },
          "output_type": "display_data"
        }
      ],
      "source": [
        "plt.figure(figsize=(15,10))\n",
        "plt.subplot(221)\n",
        "plt.plot(train_losses_his, 'bo', label = 'training loss')\n",
        "plt.plot(valid_losses_his, 'r', label = 'validation loss')\n",
        "plt.title(\"Simple CNN Loss\")\n",
        "plt.legend(loc='upper left')\n",
        "plt.subplot(222)\n",
        "plt.plot(train_acc_his, 'bo', label = 'training accuracy')\n",
        "plt.plot(valid_acc_his, 'r', label = 'validation accuracy')\n",
        "plt.title(\"Simple CNN Accuracy\")\n",
        "plt.legend(loc='upper left')\n",
        "plt.show()\n",
        "#torch.save(model1, \"CNN.pt\")\n",
        "#model1 = torch.load('CNN.pt')"
      ]
    },
    {
      "cell_type": "markdown",
      "metadata": {
        "id": "Q2YMr4X9b5xB"
      },
      "source": [
        "### Modify this simple CNN model with **2 fully connected layers**\n",
        "### *=> Fix most overfitting part*"
      ]
    },
    {
      "cell_type": "code",
      "execution_count": null,
      "metadata": {
        "id": "BZKqxsDy8ik_"
      },
      "outputs": [],
      "source": [
        "class LittleCNN(nn.Module):\n",
        "  \n",
        "    def __init__(self):\n",
        "        super(LittleCNN, self).__init__()\n",
        "        self.conv1_1 = nn.Conv2d(3, 8, kernel_size=3, padding=1)\n",
        "        self.conv1_2 = nn.Conv2d(8, 8, kernel_size=3, padding=1)\n",
        "        self.conv1_3 = nn.Conv2d(8, 8, kernel_size=3, padding=1)\n",
        "\n",
        "        self.bn1 = nn.BatchNorm2d(32)\n",
        "        \n",
        "        self.maxpool = nn.MaxPool2d(2, stride=2)\n",
        "        \n",
        "        self.fc6 = nn.Linear(40*40*8, 32)\n",
        "        self.bn_fc = nn.BatchNorm1d(32)\n",
        "        self.fc7 = nn.Linear(32, 8)\n",
        "        \n",
        "        self.dropout = nn.Dropout(p=0.1)\n",
        "    def forward(self, x):\n",
        "        #conv block 1\n",
        "        x = self.conv1_1(x)\n",
        "        x = F.relu(x)\n",
        "        x = self.maxpool(x)\n",
        "\n",
        "        x = self.conv1_2(x)\n",
        "        x = F.relu(x)\n",
        "        x = self.maxpool(x)\n",
        "\n",
        "        x = self.conv1_2(x)\n",
        "        x = F.relu(x)\n",
        "        x = self.maxpool(x)\n",
        "        \n",
        "        \n",
        "        x = x.reshape(-1, 40*40*8)\n",
        "        \n",
        "        #fc6\n",
        "        x = self.fc6(x)\n",
        "        x = F.relu(x)\n",
        "        #x = self.dropout(x)\n",
        "        \n",
        "        x = self.fc7(x)\n",
        "        #x = F.softmax(x, dim=1)\n",
        "        \n",
        "        return x"
      ]
    },
    {
      "cell_type": "code",
      "execution_count": null,
      "metadata": {
        "colab": {
          "base_uri": "https://localhost:8080/"
        },
        "id": "i1jjzEpvbl3F",
        "outputId": "5e8fdbb2-c70d-4f90-a02b-5d1d6a289228"
      },
      "outputs": [],
      "source": [
        "model1=LittleCNN()\n",
        "n_epochs = 100\n",
        "\n",
        "train_acc_his,valid_acc_his,train_losses_his,valid_losses_his,model1=train(model1,n_epochs,train_loader,valid_loader)"
      ]
    },
    {
      "cell_type": "code",
      "execution_count": null,
      "metadata": {
        "colab": {
          "base_uri": "https://localhost:8080/",
          "height": 311
        },
        "id": "Fo1YmFR8bl3G",
        "outputId": "8d6c5add-3376-4e29-f6a2-8559f584198e"
      },
      "outputs": [
        {
          "data": {
            "image/png": "[encoded data removed]",
            "text/plain": [
              "<Figure size 1080x720 with 2 Axes>"
            ]
          },
          "metadata": {
            "needs_background": "light"
          },
          "output_type": "display_data"
        }
      ],
      "source": [
        "plt.figure(figsize=(15,10))\n",
        "plt.subplot(221)\n",
        "plt.plot(train_losses_his, 'bo', label = 'training loss')\n",
        "plt.plot(valid_losses_his, 'r', label = 'validation loss')\n",
        "plt.title(\"Simple CNN Loss\")\n",
        "plt.legend(loc='upper left')\n",
        "plt.subplot(222)\n",
        "plt.plot(train_acc_his, 'bo', label = 'training accuracy')\n",
        "plt.plot(valid_acc_his, 'r', label = 'validation accuracy')\n",
        "plt.title(\"Simple CNN Accuracy\")\n",
        "plt.legend(loc='upper left')\n",
        "plt.show()\n",
        "#torch.save(model1, \"CNN.pt\")\n",
        "#model1 = torch.load('CNN.pt')"
      ]
    },
    {
      "cell_type": "markdown",
      "metadata": {
        "id": "nCTn58kPpvWi"
      },
      "source": [
        "# **2(a) ResNet with residual blocks**"
      ]
    },
    {
      "cell_type": "code",
      "execution_count": 1,
      "metadata": {
        "id": "CnOTaUirRHdd"
      },
      "outputs": [],
      "source": [
        "import torch\n",
        "import numpy as np\n",
        "import torch.nn as nn\n",
        "import torch.nn.functional as F\n",
        "import torchvision\n",
        "from torchvision import datasets, transforms\n",
        "import torch.optim as optim\n",
        "import matplotlib.pyplot as plt\n",
        "import torch.utils.data as data\n",
        "import os\n"
      ]
    },
    {
      "cell_type": "code",
      "execution_count": 2,
      "metadata": {
        "id": "KkW3RK3piU4P"
      },
      "outputs": [],
      "source": [
        "def activation_func(activation):\n",
        "    return  nn.ModuleDict([\n",
        "        ['relu', nn.ReLU(inplace=True)],\n",
        "        ['leaky_relu', nn.LeakyReLU(negative_slope=0.01, inplace=True)],\n",
        "        ['selu', nn.SELU(inplace=True)],\n",
        "        ['none', nn.Identity()]\n",
        "    ])[activation]"
      ]
    },
    {
      "cell_type": "code",
      "execution_count": 3,
      "metadata": {
        "id": "EidQfNprRK0i"
      },
      "outputs": [],
      "source": [
        "from functools import partial\n",
        "class Conv2dAuto(nn.Conv2d):\n",
        "    def __init__(self, *args, **kwargs):\n",
        "        super().__init__(*args, **kwargs)\n",
        "        self.padding =  (self.kernel_size[0] // 2, self.kernel_size[1] // 2)\n",
        "        \n",
        "conv3x3 = partial(Conv2dAuto, kernel_size=3, bias=False)    "
      ]
    },
    {
      "cell_type": "code",
      "execution_count": 4,
      "metadata": {
        "id": "lDKrDm02RMty"
      },
      "outputs": [],
      "source": [
        "\n",
        "class ResidualBlock(nn.Module):\n",
        "    def __init__(self, in_channels, out_channels, should_apply_shortcut= True, activation='relu'):\n",
        "        super().__init__()\n",
        "        self.in_channels, self.out_channels, self.activation, self.should_apply_shortcut = in_channels, out_channels, activation, should_apply_shortcut\n",
        "        self.blocks = nn.Identity()\n",
        "        self.activate = activation_func(activation)\n",
        "        self.shortcut = nn.Identity()   \n",
        "    def forward(self, x):\n",
        "        residual = x\n",
        "        if self.should_apply_shortcut: residual = self.shortcut(x)\n",
        "        x = self.blocks(x)\n",
        "        x += residual\n",
        "        x = self.activate(x)\n",
        "        return x\n",
        "    "
      ]
    },
    {
      "cell_type": "code",
      "execution_count": 5,
      "metadata": {
        "id": "zMTxOmjyRRNH"
      },
      "outputs": [],
      "source": [
        "class ResNetResidualBlock(ResidualBlock):\n",
        "    def __init__(self, in_channels, out_channels, should_apply_shortcut= True, expansion=1, downsampling=1, conv=conv3x3, *args, **kwargs):#=conv3x3\n",
        "        super().__init__(in_channels, out_channels, should_apply_shortcut, *args, **kwargs)\n",
        "        self.expansion, self.downsampling, self.conv, self.should_apply_shortcut = expansion, downsampling, conv, should_apply_shortcut\n",
        "        self.shortcut = nn.Sequential(\n",
        "            nn.Conv2d(self.in_channels, self.expanded_channels, kernel_size=1,\n",
        "                      stride=self.downsampling, bias=False),\n",
        "            nn.BatchNorm2d(self.expanded_channels)) if self.should_apply_shortcut else None\n",
        "        \n",
        "        \n",
        "    @property\n",
        "    def expanded_channels(self):\n",
        "        return self.out_channels * self.expansion\n",
        "    "
      ]
    },
    {
      "cell_type": "code",
      "execution_count": 6,
      "metadata": {
        "id": "sg-7cKS3RRrV"
      },
      "outputs": [],
      "source": [
        "def conv_bn(in_channels, out_channels, conv, *args, **kwargs):\n",
        "    return nn.Sequential(conv(in_channels, out_channels, *args, **kwargs), nn.BatchNorm2d(out_channels))"
      ]
    },
    {
      "cell_type": "code",
      "execution_count": 7,
      "metadata": {
        "id": "wjfI7AVbRU-c"
      },
      "outputs": [],
      "source": [
        "class ResNetBasicBlock(ResNetResidualBlock):\n",
        "    \n",
        "    expansion = 1\n",
        "    def __init__(self, in_channels, out_channels, should_apply_shortcut= True, *args, **kwargs):\n",
        "        super().__init__(in_channels, out_channels, should_apply_shortcut, *args, **kwargs)\n",
        "        self.blocks = nn.Sequential(\n",
        "            conv_bn(self.in_channels, self.out_channels, conv=self.conv, bias=False, stride=self.downsampling),\n",
        "            activation_func(self.activation),\n",
        "            conv_bn(self.out_channels, self.expanded_channels, conv=self.conv, bias=False),\n",
        "        )"
      ]
    },
    {
      "cell_type": "code",
      "execution_count": 9,
      "metadata": {
        "id": "aK_UpPA0Sp2r"
      },
      "outputs": [],
      "source": [
        "class ResNetLayer(nn.Module):\n",
        "    def __init__(self, in_channels, out_channels, should_apply_shortcut= True, block=ResNetBasicBlock, n=1, *args, **kwargs):#代表有n 個 blocks\n",
        "        super().__init__()\n",
        "        downsampling = 2 if in_channels != out_channels else 1\n",
        "        self.blocks = nn.Sequential(\n",
        "            block(in_channels , out_channels, should_apply_shortcut=should_apply_shortcut, *args, **kwargs, downsampling=downsampling),\n",
        "            *[block(out_channels * block.expansion, \n",
        "                    out_channels, should_apply_shortcut=should_apply_shortcut, downsampling=1, *args, **kwargs) for _ in range(n - 1)]\n",
        "        )\n",
        "\n",
        "    def forward(self, x):\n",
        "        x = self.blocks(x)\n",
        "        return x"
      ]
    },
    {
      "cell_type": "code",
      "execution_count": 10,
      "metadata": {
        "id": "Ds0uEH6KSvuK"
      },
      "outputs": [],
      "source": [
        "class ResNetEncoder(nn.Module):\n",
        "    def __init__(self, in_channels=3, should_apply_shortcut= True, blocks_sizes=[64, 128, 256, 512], deepths=[2,2,2,2], \n",
        "                 activation='relu', block=ResNetBasicBlock, *args, **kwargs):\n",
        "        super().__init__()\n",
        "        self.blocks_sizes = blocks_sizes\n",
        "        \n",
        "        self.gate = nn.Sequential(\n",
        "            nn.Conv2d(in_channels, self.blocks_sizes[0], kernel_size=7, stride=2, padding=3, bias=False),\n",
        "            nn.BatchNorm2d(self.blocks_sizes[0]),\n",
        "            activation_func(activation),\n",
        "            nn.MaxPool2d(kernel_size=3, stride=2, padding=1)\n",
        "        )\n",
        "        \n",
        "        self.in_out_block_sizes = list(zip(blocks_sizes, blocks_sizes[1:]))\n",
        "        self.blocks = nn.ModuleList([ \n",
        "            ResNetLayer(blocks_sizes[0], blocks_sizes[0], should_apply_shortcut=should_apply_shortcut, n=deepths[0], activation=activation, \n",
        "                        block=block,*args, **kwargs),\n",
        "            *[ResNetLayer(in_channels * block.expansion, \n",
        "                          out_channels, should_apply_shortcut=should_apply_shortcut, n=n, activation=activation, \n",
        "                          block=block, *args, **kwargs) \n",
        "              for (in_channels, out_channels), n in zip(self.in_out_block_sizes, deepths[1:])]       \n",
        "        ])\n",
        "        \n",
        "        \n",
        "    def forward(self, x):\n",
        "        x = self.gate(x)\n",
        "        for block in self.blocks:\n",
        "            x = block(x)\n",
        "        return x"
      ]
    },
    {
      "cell_type": "code",
      "execution_count": 11,
      "metadata": {
        "id": "6-maL_yWSxrV"
      },
      "outputs": [],
      "source": [
        "class ResnetDecoder(nn.Module):\n",
        "    def __init__(self, in_features, n_classes):\n",
        "        super().__init__()\n",
        "        self.avg = nn.AdaptiveAvgPool2d((1, 1))\n",
        "        self.decoder = nn.Linear(in_features, n_classes)\n",
        "\n",
        "    def forward(self, x):\n",
        "        x = self.avg(x)\n",
        "        x = x.view(x.size(0), -1)\n",
        "        x = self.decoder(x)\n",
        "        return x"
      ]
    },
    {
      "cell_type": "code",
      "execution_count": 12,
      "metadata": {
        "id": "DGs-ymRVSzoH"
      },
      "outputs": [],
      "source": [
        "class ResNet(nn.Module):\n",
        "    \n",
        "    def __init__(self, in_channels, n_classes, should_apply_shortcut= True, *args, **kwargs):\n",
        "        super().__init__()\n",
        "        self.encoder = ResNetEncoder(in_channels, should_apply_shortcut, *args, **kwargs)\n",
        "        self.decoder = ResnetDecoder(self.encoder.blocks[-1].blocks[-1].expanded_channels, n_classes)\n",
        "        \n",
        "    def forward(self, x):\n",
        "        x = self.encoder(x)\n",
        "        x = self.decoder(x)\n",
        "        return x"
      ]
    },
    {
      "cell_type": "code",
      "execution_count": 13,
      "metadata": {
        "id": "JsMCgCnKS1bu"
      },
      "outputs": [],
      "source": [
        "def resnet18(in_channels, n_classes, block=ResNetBasicBlock, *args, **kwargs):\n",
        "    return ResNet(in_channels, n_classes, block=block, deepths=[2, 2, 2, 2], *args, **kwargs)"
      ]
    },
    {
      "cell_type": "code",
      "execution_count": 14,
      "metadata": {
        "id": "8dtEJ6-p-KHP"
      },
      "outputs": [],
      "source": [
        "def resnet18_no_identity(in_channels, n_classes, block=ResNetBasicBlock, *args, **kwargs):\n",
        "    return ResNet(in_channels, n_classes, should_apply_shortcut= False, block=block, deepths=[2, 2, 2, 2], *args, **kwargs)"
      ]
    },
    {
      "cell_type": "code",
      "execution_count": 15,
      "metadata": {
        "id": "iQnvdUwtTZjz"
      },
      "outputs": [],
      "source": [
        "\n",
        "import torch.optim as optim\n",
        "from torch.optim.lr_scheduler import ReduceLROnPlateau\n",
        "\n",
        "device = torch.device(\"cuda\" if torch.cuda.is_available() else \"cpu\")\n",
        "\n",
        "def train(model, data_loader, optimizer, epoch,scheduler, verbose=True):\n",
        "    model.train()\n",
        "    loss_avg = 0.0\n",
        "    for batch_idx, (data, target) in enumerate(data_loader):\n",
        "        data, target = data.to(device), target.to(device)\n",
        "        \n",
        "        output = model(data)\n",
        "        \n",
        "        # loss function\n",
        "        criterion  = nn.CrossEntropyLoss()\n",
        "        loss   = criterion (output, target)\n",
        "        loss_avg += loss.item()\n",
        "        \n",
        "        # do back propagation\n",
        "        optimizer.zero_grad() \n",
        "        loss.backward()\n",
        "        optimizer.step()\n",
        "\n",
        "        \n",
        "        #print\n",
        "        #verbose_step = len(data_loader) // 10\n",
        "        verbose_step=100\n",
        "        if batch_idx % verbose_step == 0 and verbose:\n",
        "            print('Train Epoch: {} [{}/{} ({:.0f}%)]\\tLoss: {:.6f}'.format(\n",
        "                epoch, batch_idx * len(data), len(data_loader.dataset),\n",
        "                100. * batch_idx / len(data_loader), loss.item()))\n",
        "    return loss_avg / len(data_loader)\n",
        "\n",
        "def valid(model, data_loader):\n",
        "    with torch.no_grad():\n",
        "        model.eval()\n",
        "        valid_loss = 0\n",
        "        correct = 0\n",
        "        for data, target in data_loader:\n",
        "            data, target = data.to(device), target.to(device)\n",
        "            output = model(data)\n",
        "            #00\n",
        "            criterion  = nn.CrossEntropyLoss()\n",
        "            loss   = criterion (output, target)\n",
        "            loss_avg = loss.item()\n",
        "            valid_loss +=loss_avg  # sum up batch loss\n",
        "            pred = output.data.max(1, keepdim=True)[1] # get the index of the max log-probability\n",
        "            correct += pred.eq(target.data.view_as(pred)).cpu().sum().item() \n",
        "\n",
        "        #valid_loss /= len(data_loader.dataset)\n",
        "        valid_loss /= len(data_loader)\n",
        "        print('Valid set: Average loss: {:.4f}, Accuracy: {}/{} ({:.0f}%)\\n'.format(\n",
        "            valid_loss, correct, len(data_loader.dataset),\n",
        "            100. * correct / len(data_loader.dataset)))\n",
        "    return float(correct) / len(data_loader.dataset)"
      ]
    },
    {
      "cell_type": "code",
      "execution_count": 16,
      "metadata": {
        "colab": {
          "base_uri": "https://localhost:8080/"
        },
        "id": "7NJbIBWVTaCW",
        "outputId": "fb9a971e-67cc-4b07-8b41-e7e1a184ccd2"
      },
      "outputs": [
        {
          "data": {
            "text/plain": [
              "ResNet(\n",
              "  (encoder): ResNetEncoder(\n",
              "    (gate): Sequential(\n",
              "      (0): Conv2d(3, 64, kernel_size=(7, 7), stride=(2, 2), padding=(3, 3), bias=False)\n",
              "      (1): BatchNorm2d(64, eps=1e-05, momentum=0.1, affine=True, track_running_stats=True)\n",
              "      (2): ReLU(inplace=True)\n",
              "      (3): MaxPool2d(kernel_size=3, stride=2, padding=1, dilation=1, ceil_mode=False)\n",
              "    )\n",
              "    (blocks): ModuleList(\n",
              "      (0): ResNetLayer(\n",
              "        (blocks): Sequential(\n",
              "          (0): ResNetBasicBlock(\n",
              "            (blocks): Sequential(\n",
              "              (0): Sequential(\n",
              "                (0): Conv2dAuto(64, 64, kernel_size=(3, 3), stride=(1, 1), padding=(1, 1), bias=False)\n",
              "                (1): BatchNorm2d(64, eps=1e-05, momentum=0.1, affine=True, track_running_stats=True)\n",
              "              )\n",
              "              (1): ReLU(inplace=True)\n",
              "              (2): Sequential(\n",
              "                (0): Conv2dAuto(64, 64, kernel_size=(3, 3), stride=(1, 1), padding=(1, 1), bias=False)\n",
              "                (1): BatchNorm2d(64, eps=1e-05, momentum=0.1, affine=True, track_running_stats=True)\n",
              "              )\n",
              "            )\n",
              "            (activate): ReLU(inplace=True)\n",
              "            (shortcut): Sequential(\n",
              "              (0): Conv2d(64, 64, kernel_size=(1, 1), stride=(1, 1), bias=False)\n",
              "              (1): BatchNorm2d(64, eps=1e-05, momentum=0.1, affine=True, track_running_stats=True)\n",
              "            )\n",
              "          )\n",
              "          (1): ResNetBasicBlock(\n",
              "            (blocks): Sequential(\n",
              "              (0): Sequential(\n",
              "                (0): Conv2dAuto(64, 64, kernel_size=(3, 3), stride=(1, 1), padding=(1, 1), bias=False)\n",
              "                (1): BatchNorm2d(64, eps=1e-05, momentum=0.1, affine=True, track_running_stats=True)\n",
              "              )\n",
              "              (1): ReLU(inplace=True)\n",
              "              (2): Sequential(\n",
              "                (0): Conv2dAuto(64, 64, kernel_size=(3, 3), stride=(1, 1), padding=(1, 1), bias=False)\n",
              "                (1): BatchNorm2d(64, eps=1e-05, momentum=0.1, affine=True, track_running_stats=True)\n",
              "              )\n",
              "            )\n",
              "            (activate): ReLU(inplace=True)\n",
              "            (shortcut): Sequential(\n",
              "              (0): Conv2d(64, 64, kernel_size=(1, 1), stride=(1, 1), bias=False)\n",
              "              (1): BatchNorm2d(64, eps=1e-05, momentum=0.1, affine=True, track_running_stats=True)\n",
              "            )\n",
              "          )\n",
              "        )\n",
              "      )\n",
              "      (1): ResNetLayer(\n",
              "        (blocks): Sequential(\n",
              "          (0): ResNetBasicBlock(\n",
              "            (blocks): Sequential(\n",
              "              (0): Sequential(\n",
              "                (0): Conv2dAuto(64, 128, kernel_size=(3, 3), stride=(2, 2), padding=(1, 1), bias=False)\n",
              "                (1): BatchNorm2d(128, eps=1e-05, momentum=0.1, affine=True, track_running_stats=True)\n",
              "              )\n",
              "              (1): ReLU(inplace=True)\n",
              "              (2): Sequential(\n",
              "                (0): Conv2dAuto(128, 128, kernel_size=(3, 3), stride=(1, 1), padding=(1, 1), bias=False)\n",
              "                (1): BatchNorm2d(128, eps=1e-05, momentum=0.1, affine=True, track_running_stats=True)\n",
              "              )\n",
              "            )\n",
              "            (activate): ReLU(inplace=True)\n",
              "            (shortcut): Sequential(\n",
              "              (0): Conv2d(64, 128, kernel_size=(1, 1), stride=(2, 2), bias=False)\n",
              "              (1): BatchNorm2d(128, eps=1e-05, momentum=0.1, affine=True, track_running_stats=True)\n",
              "            )\n",
              "          )\n",
              "          (1): ResNetBasicBlock(\n",
              "            (blocks): Sequential(\n",
              "              (0): Sequential(\n",
              "                (0): Conv2dAuto(128, 128, kernel_size=(3, 3), stride=(1, 1), padding=(1, 1), bias=False)\n",
              "                (1): BatchNorm2d(128, eps=1e-05, momentum=0.1, affine=True, track_running_stats=True)\n",
              "              )\n",
              "              (1): ReLU(inplace=True)\n",
              "              (2): Sequential(\n",
              "                (0): Conv2dAuto(128, 128, kernel_size=(3, 3), stride=(1, 1), padding=(1, 1), bias=False)\n",
              "                (1): BatchNorm2d(128, eps=1e-05, momentum=0.1, affine=True, track_running_stats=True)\n",
              "              )\n",
              "            )\n",
              "            (activate): ReLU(inplace=True)\n",
              "            (shortcut): Sequential(\n",
              "              (0): Conv2d(128, 128, kernel_size=(1, 1), stride=(1, 1), bias=False)\n",
              "              (1): BatchNorm2d(128, eps=1e-05, momentum=0.1, affine=True, track_running_stats=True)\n",
              "            )\n",
              "          )\n",
              "        )\n",
              "      )\n",
              "      (2): ResNetLayer(\n",
              "        (blocks): Sequential(\n",
              "          (0): ResNetBasicBlock(\n",
              "            (blocks): Sequential(\n",
              "              (0): Sequential(\n",
              "                (0): Conv2dAuto(128, 256, kernel_size=(3, 3), stride=(2, 2), padding=(1, 1), bias=False)\n",
              "                (1): BatchNorm2d(256, eps=1e-05, momentum=0.1, affine=True, track_running_stats=True)\n",
              "              )\n",
              "              (1): ReLU(inplace=True)\n",
              "              (2): Sequential(\n",
              "                (0): Conv2dAuto(256, 256, kernel_size=(3, 3), stride=(1, 1), padding=(1, 1), bias=False)\n",
              "                (1): BatchNorm2d(256, eps=1e-05, momentum=0.1, affine=True, track_running_stats=True)\n",
              "              )\n",
              "            )\n",
              "            (activate): ReLU(inplace=True)\n",
              "            (shortcut): Sequential(\n",
              "              (0): Conv2d(128, 256, kernel_size=(1, 1), stride=(2, 2), bias=False)\n",
              "              (1): BatchNorm2d(256, eps=1e-05, momentum=0.1, affine=True, track_running_stats=True)\n",
              "            )\n",
              "          )\n",
              "          (1): ResNetBasicBlock(\n",
              "            (blocks): Sequential(\n",
              "              (0): Sequential(\n",
              "                (0): Conv2dAuto(256, 256, kernel_size=(3, 3), stride=(1, 1), padding=(1, 1), bias=False)\n",
              "                (1): BatchNorm2d(256, eps=1e-05, momentum=0.1, affine=True, track_running_stats=True)\n",
              "              )\n",
              "              (1): ReLU(inplace=True)\n",
              "              (2): Sequential(\n",
              "                (0): Conv2dAuto(256, 256, kernel_size=(3, 3), stride=(1, 1), padding=(1, 1), bias=False)\n",
              "                (1): BatchNorm2d(256, eps=1e-05, momentum=0.1, affine=True, track_running_stats=True)\n",
              "              )\n",
              "            )\n",
              "            (activate): ReLU(inplace=True)\n",
              "            (shortcut): Sequential(\n",
              "              (0): Conv2d(256, 256, kernel_size=(1, 1), stride=(1, 1), bias=False)\n",
              "              (1): BatchNorm2d(256, eps=1e-05, momentum=0.1, affine=True, track_running_stats=True)\n",
              "            )\n",
              "          )\n",
              "        )\n",
              "      )\n",
              "      (3): ResNetLayer(\n",
              "        (blocks): Sequential(\n",
              "          (0): ResNetBasicBlock(\n",
              "            (blocks): Sequential(\n",
              "              (0): Sequential(\n",
              "                (0): Conv2dAuto(256, 512, kernel_size=(3, 3), stride=(2, 2), padding=(1, 1), bias=False)\n",
              "                (1): BatchNorm2d(512, eps=1e-05, momentum=0.1, affine=True, track_running_stats=True)\n",
              "              )\n",
              "              (1): ReLU(inplace=True)\n",
              "              (2): Sequential(\n",
              "                (0): Conv2dAuto(512, 512, kernel_size=(3, 3), stride=(1, 1), padding=(1, 1), bias=False)\n",
              "                (1): BatchNorm2d(512, eps=1e-05, momentum=0.1, affine=True, track_running_stats=True)\n",
              "              )\n",
              "            )\n",
              "            (activate): ReLU(inplace=True)\n",
              "            (shortcut): Sequential(\n",
              "              (0): Conv2d(256, 512, kernel_size=(1, 1), stride=(2, 2), bias=False)\n",
              "              (1): BatchNorm2d(512, eps=1e-05, momentum=0.1, affine=True, track_running_stats=True)\n",
              "            )\n",
              "          )\n",
              "          (1): ResNetBasicBlock(\n",
              "            (blocks): Sequential(\n",
              "              (0): Sequential(\n",
              "                (0): Conv2dAuto(512, 512, kernel_size=(3, 3), stride=(1, 1), padding=(1, 1), bias=False)\n",
              "                (1): BatchNorm2d(512, eps=1e-05, momentum=0.1, affine=True, track_running_stats=True)\n",
              "              )\n",
              "              (1): ReLU(inplace=True)\n",
              "              (2): Sequential(\n",
              "                (0): Conv2dAuto(512, 512, kernel_size=(3, 3), stride=(1, 1), padding=(1, 1), bias=False)\n",
              "                (1): BatchNorm2d(512, eps=1e-05, momentum=0.1, affine=True, track_running_stats=True)\n",
              "              )\n",
              "            )\n",
              "            (activate): ReLU(inplace=True)\n",
              "            (shortcut): Sequential(\n",
              "              (0): Conv2d(512, 512, kernel_size=(1, 1), stride=(1, 1), bias=False)\n",
              "              (1): BatchNorm2d(512, eps=1e-05, momentum=0.1, affine=True, track_running_stats=True)\n",
              "            )\n",
              "          )\n",
              "        )\n",
              "      )\n",
              "    )\n",
              "  )\n",
              "  (decoder): ResnetDecoder(\n",
              "    (avg): AdaptiveAvgPool2d(output_size=(1, 1))\n",
              "    (decoder): Linear(in_features=512, out_features=8, bias=True)\n",
              "  )\n",
              ")"
            ]
          },
          "execution_count": 16,
          "metadata": {},
          "output_type": "execute_result"
        }
      ],
      "source": [
        "model=resnet18(3,8)\n",
        "model.to(device=device)"
      ]
    },
    {
      "cell_type": "code",
      "execution_count": null,
      "metadata": {
        "colab": {
          "base_uri": "https://localhost:8080/"
        },
        "id": "nPSSdltQTb3K",
        "outputId": "ba56eae3-7a01-464b-e626-051ca39b27b7"
      },
      "outputs": [],
      "source": [
        "\n",
        "#\n",
        "lr=3e-4\n",
        "#optimizer = optim.Adam(model.parameters(), lr, betas=(0.9, 0.999), eps=1e-08, weight_decay=1e-5, amsgrad=False)\n",
        "optimizer = torch.optim.SGD(model.parameters(), lr, momentum=0.09, dampening=0)\n",
        "optimizer = optim.Adam(model.parameters(), lr, betas=(0.9, 0.999), eps=1e-08, weight_decay=1e-5, amsgrad=False)\n",
        "scheduler = ReduceLROnPlateau(optimizer, 'min',factor=0.1, patience=10, min_lr=0.000001, eps=1e-08, threshold=0.0001, threshold_mode='rel', cooldown=0, verbose=True)\n",
        "# start training\n",
        "epochs = 600\n",
        "acc = 0.4\n",
        "for epoch in range(epochs):\n",
        "    #model.train()\n",
        "    loss = train(model, train_loader, optimizer, epoch,scheduler)\n",
        "    print('-> Train Epoch: {} \\tLoss: {:.6f}'.format(epoch,loss))\n",
        "    accuracy = valid(model, valid_loader)\n",
        "    scheduler.step(loss)\n",
        "    if accuracy > acc:\n",
        "        acc = accuracy\n",
        "        print(\"-------------saving model--------------\")\n",
        "        # save the model\n",
        "        torch.save(model, \"resnet.{:02d}-{:.2f}.pth\".format(epoch,accuracy))"
      ]
    },
    {
      "cell_type": "markdown",
      "metadata": {
        "id": "zeFZJL0_piQg"
      },
      "source": [
        "# **2(b) Remove the identity mapping**"
      ]
    },
    {
      "cell_type": "code",
      "execution_count": null,
      "metadata": {
        "colab": {
          "base_uri": "https://localhost:8080/"
        },
        "id": "UgiQtLk9pfxs",
        "outputId": "de2a3ad0-8eb2-4885-ccc7-ec2f128c989b"
      },
      "outputs": [
        {
          "data": {
            "text/plain": [
              "ResNet(\n",
              "  (encoder): ResNetEncoder(\n",
              "    (gate): Sequential(\n",
              "      (0): Conv2d(3, 64, kernel_size=(7, 7), stride=(2, 2), padding=(3, 3), bias=False)\n",
              "      (1): BatchNorm2d(64, eps=1e-05, momentum=0.1, affine=True, track_running_stats=True)\n",
              "      (2): ReLU(inplace=True)\n",
              "      (3): MaxPool2d(kernel_size=3, stride=2, padding=1, dilation=1, ceil_mode=False)\n",
              "    )\n",
              "    (blocks): ModuleList(\n",
              "      (0): ResNetLayer(\n",
              "        (blocks): Sequential(\n",
              "          (0): ResNetBasicBlock(\n",
              "            (blocks): Sequential(\n",
              "              (0): Sequential(\n",
              "                (0): Conv2dAuto(64, 64, kernel_size=(3, 3), stride=(1, 1), padding=(1, 1), bias=False)\n",
              "                (1): BatchNorm2d(64, eps=1e-05, momentum=0.1, affine=True, track_running_stats=True)\n",
              "              )\n",
              "              (1): ReLU(inplace=True)\n",
              "              (2): Sequential(\n",
              "                (0): Conv2dAuto(64, 64, kernel_size=(3, 3), stride=(1, 1), padding=(1, 1), bias=False)\n",
              "                (1): BatchNorm2d(64, eps=1e-05, momentum=0.1, affine=True, track_running_stats=True)\n",
              "              )\n",
              "            )\n",
              "            (activate): ReLU(inplace=True)\n",
              "            (shortcut): None\n",
              "          )\n",
              "          (1): ResNetBasicBlock(\n",
              "            (blocks): Sequential(\n",
              "              (0): Sequential(\n",
              "                (0): Conv2dAuto(64, 64, kernel_size=(3, 3), stride=(1, 1), padding=(1, 1), bias=False)\n",
              "                (1): BatchNorm2d(64, eps=1e-05, momentum=0.1, affine=True, track_running_stats=True)\n",
              "              )\n",
              "              (1): ReLU(inplace=True)\n",
              "              (2): Sequential(\n",
              "                (0): Conv2dAuto(64, 64, kernel_size=(3, 3), stride=(1, 1), padding=(1, 1), bias=False)\n",
              "                (1): BatchNorm2d(64, eps=1e-05, momentum=0.1, affine=True, track_running_stats=True)\n",
              "              )\n",
              "            )\n",
              "            (activate): ReLU(inplace=True)\n",
              "            (shortcut): None\n",
              "          )\n",
              "        )\n",
              "      )\n",
              "      (1): ResNetLayer(\n",
              "        (blocks): Sequential(\n",
              "          (0): ResNetBasicBlock(\n",
              "            (blocks): Sequential(\n",
              "              (0): Sequential(\n",
              "                (0): Conv2dAuto(64, 128, kernel_size=(3, 3), stride=(2, 2), padding=(1, 1), bias=False)\n",
              "                (1): BatchNorm2d(128, eps=1e-05, momentum=0.1, affine=True, track_running_stats=True)\n",
              "              )\n",
              "              (1): ReLU(inplace=True)\n",
              "              (2): Sequential(\n",
              "                (0): Conv2dAuto(128, 128, kernel_size=(3, 3), stride=(1, 1), padding=(1, 1), bias=False)\n",
              "                (1): BatchNorm2d(128, eps=1e-05, momentum=0.1, affine=True, track_running_stats=True)\n",
              "              )\n",
              "            )\n",
              "            (activate): ReLU(inplace=True)\n",
              "            (shortcut): None\n",
              "          )\n",
              "          (1): ResNetBasicBlock(\n",
              "            (blocks): Sequential(\n",
              "              (0): Sequential(\n",
              "                (0): Conv2dAuto(128, 128, kernel_size=(3, 3), stride=(1, 1), padding=(1, 1), bias=False)\n",
              "                (1): BatchNorm2d(128, eps=1e-05, momentum=0.1, affine=True, track_running_stats=True)\n",
              "              )\n",
              "              (1): ReLU(inplace=True)\n",
              "              (2): Sequential(\n",
              "                (0): Conv2dAuto(128, 128, kernel_size=(3, 3), stride=(1, 1), padding=(1, 1), bias=False)\n",
              "                (1): BatchNorm2d(128, eps=1e-05, momentum=0.1, affine=True, track_running_stats=True)\n",
              "              )\n",
              "            )\n",
              "            (activate): ReLU(inplace=True)\n",
              "            (shortcut): None\n",
              "          )\n",
              "        )\n",
              "      )\n",
              "      (2): ResNetLayer(\n",
              "        (blocks): Sequential(\n",
              "          (0): ResNetBasicBlock(\n",
              "            (blocks): Sequential(\n",
              "              (0): Sequential(\n",
              "                (0): Conv2dAuto(128, 256, kernel_size=(3, 3), stride=(2, 2), padding=(1, 1), bias=False)\n",
              "                (1): BatchNorm2d(256, eps=1e-05, momentum=0.1, affine=True, track_running_stats=True)\n",
              "              )\n",
              "              (1): ReLU(inplace=True)\n",
              "              (2): Sequential(\n",
              "                (0): Conv2dAuto(256, 256, kernel_size=(3, 3), stride=(1, 1), padding=(1, 1), bias=False)\n",
              "                (1): BatchNorm2d(256, eps=1e-05, momentum=0.1, affine=True, track_running_stats=True)\n",
              "              )\n",
              "            )\n",
              "            (activate): ReLU(inplace=True)\n",
              "            (shortcut): None\n",
              "          )\n",
              "          (1): ResNetBasicBlock(\n",
              "            (blocks): Sequential(\n",
              "              (0): Sequential(\n",
              "                (0): Conv2dAuto(256, 256, kernel_size=(3, 3), stride=(1, 1), padding=(1, 1), bias=False)\n",
              "                (1): BatchNorm2d(256, eps=1e-05, momentum=0.1, affine=True, track_running_stats=True)\n",
              "              )\n",
              "              (1): ReLU(inplace=True)\n",
              "              (2): Sequential(\n",
              "                (0): Conv2dAuto(256, 256, kernel_size=(3, 3), stride=(1, 1), padding=(1, 1), bias=False)\n",
              "                (1): BatchNorm2d(256, eps=1e-05, momentum=0.1, affine=True, track_running_stats=True)\n",
              "              )\n",
              "            )\n",
              "            (activate): ReLU(inplace=True)\n",
              "            (shortcut): None\n",
              "          )\n",
              "        )\n",
              "      )\n",
              "      (3): ResNetLayer(\n",
              "        (blocks): Sequential(\n",
              "          (0): ResNetBasicBlock(\n",
              "            (blocks): Sequential(\n",
              "              (0): Sequential(\n",
              "                (0): Conv2dAuto(256, 512, kernel_size=(3, 3), stride=(2, 2), padding=(1, 1), bias=False)\n",
              "                (1): BatchNorm2d(512, eps=1e-05, momentum=0.1, affine=True, track_running_stats=True)\n",
              "              )\n",
              "              (1): ReLU(inplace=True)\n",
              "              (2): Sequential(\n",
              "                (0): Conv2dAuto(512, 512, kernel_size=(3, 3), stride=(1, 1), padding=(1, 1), bias=False)\n",
              "                (1): BatchNorm2d(512, eps=1e-05, momentum=0.1, affine=True, track_running_stats=True)\n",
              "              )\n",
              "            )\n",
              "            (activate): ReLU(inplace=True)\n",
              "            (shortcut): None\n",
              "          )\n",
              "          (1): ResNetBasicBlock(\n",
              "            (blocks): Sequential(\n",
              "              (0): Sequential(\n",
              "                (0): Conv2dAuto(512, 512, kernel_size=(3, 3), stride=(1, 1), padding=(1, 1), bias=False)\n",
              "                (1): BatchNorm2d(512, eps=1e-05, momentum=0.1, affine=True, track_running_stats=True)\n",
              "              )\n",
              "              (1): ReLU(inplace=True)\n",
              "              (2): Sequential(\n",
              "                (0): Conv2dAuto(512, 512, kernel_size=(3, 3), stride=(1, 1), padding=(1, 1), bias=False)\n",
              "                (1): BatchNorm2d(512, eps=1e-05, momentum=0.1, affine=True, track_running_stats=True)\n",
              "              )\n",
              "            )\n",
              "            (activate): ReLU(inplace=True)\n",
              "            (shortcut): None\n",
              "          )\n",
              "        )\n",
              "      )\n",
              "    )\n",
              "  )\n",
              "  (decoder): ResnetDecoder(\n",
              "    (avg): AdaptiveAvgPool2d(output_size=(1, 1))\n",
              "    (decoder): Linear(in_features=512, out_features=8, bias=True)\n",
              "  )\n",
              ")"
            ]
          },
          "execution_count": 33,
          "metadata": {},
          "output_type": "execute_result"
        }
      ],
      "source": [
        "model=resnet18_no_identity(3,8)\n",
        "model.to(device=device)"
      ]
    },
    {
      "cell_type": "code",
      "execution_count": null,
      "metadata": {
        "colab": {
          "base_uri": "https://localhost:8080/"
        },
        "id": "EjirKsDapfx0",
        "outputId": "8fec60ff-9f9d-409e-d229-cfbf2c23cef2"
      },
      "outputs": [],
      "source": [
        "\n",
        "#\n",
        "lr=3e-4\n",
        "#optimizer = optim.Adam(model.parameters(), lr, betas=(0.9, 0.999), eps=1e-08, weight_decay=1e-5, amsgrad=False)\n",
        "optimizer = torch.optim.SGD(model.parameters(), lr, momentum=0.09, dampening=0)\n",
        "optimizer = optim.Adam(model.parameters(), lr, betas=(0.9, 0.999), eps=1e-08, weight_decay=1e-5, amsgrad=False)\n",
        "scheduler = ReduceLROnPlateau(optimizer, 'min',factor=0.1, patience=10, min_lr=0.000001, eps=1e-08, threshold=0.0001, threshold_mode='rel', cooldown=0, verbose=True)\n",
        "# start training\n",
        "epochs = 600\n",
        "acc = 0.4\n",
        "for epoch in range(epochs):\n",
        "    #model.train()\n",
        "    loss = train(model, train_loader, optimizer, epoch,scheduler)\n",
        "    print('-> Train Epoch: {} \\tLoss: {:.6f}'.format(epoch,loss))\n",
        "    accuracy = valid(model, valid_loader)\n",
        "    scheduler.step(loss)\n",
        "    if accuracy > acc:\n",
        "        acc = accuracy\n",
        "        print(\"-------------saving model--------------\")\n",
        "        # save the model\n",
        "        torch.save(model, \"resnet.{:02d}-{:.2f}.pth\".format(epoch,accuracy))"
      ]
    }
  ],
  "metadata": {
    "accelerator": "GPU",
    "colab": {
      "collapsed_sections": [],
      "name": "hw1_2_0710749.ipynb",
      "provenance": []
    },
    "kernelspec": {
      "display_name": "Python 3",
      "name": "python3"
    },
    "language_info": {
      "name": "python"
    }
  },
  "nbformat": 4,
  "nbformat_minor": 0
}
